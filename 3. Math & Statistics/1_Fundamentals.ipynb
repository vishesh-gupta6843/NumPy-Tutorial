{
 "cells": [
  {
   "cell_type": "code",
   "execution_count": 2,
   "id": "2d310bc1",
   "metadata": {},
   "outputs": [],
   "source": [
    "import numpy as np\n",
    "arr = np.array([\n",
    "    [[2, 7, 3],\n",
    "     [4, 1, 6],\n",
    "     [0, 5, 8],\n",
    "     [9, 2, 3]],\n",
    "\n",
    "    [[6, 4, 0],\n",
    "     [7, 1, 5],\n",
    "     [8, 2, 9],\n",
    "     [3, 6, 1]]\n",
    "])"
   ]
  },
  {
   "cell_type": "markdown",
   "id": "d25bdbc9",
   "metadata": {},
   "source": [
    "# Mathematical and Statistical Operations\n",
    "\n",
    "Operations between and within array(s), these include :-\n",
    "\n",
    "    - Element-wise Operations :\n",
    "  \n",
    "              - Arithmetic Operators : + - * / ** %  np.sqrt() , np.exp() , np.log()\n",
    "  \n",
    "              - Logical & Comparison Operations :  == >= <= != > < , & | ~ \n",
    "  \n",
    "    - Aggregate Functions : np.sum(), np.min(), np.max(), np.mean(), np.std()\n",
    "    \n",
    "    - Index Functions : np.argmin(), np.argmax(), np.where(), np.nonzero()\n",
    "    \n",
    "    - Cumulative Functions : np.cumsum(), np.cumproduct(), np.diff()\n",
    "\n",
    "---"
   ]
  },
  {
   "cell_type": "markdown",
   "id": "d44f83d1",
   "metadata": {},
   "source": [
    "## 🔹 Element-wise-Operations"
   ]
  },
  {
   "cell_type": "markdown",
   "id": "c9e5c3a1",
   "metadata": {},
   "source": [
    "\n",
    "### 1. Arithmetic Operators\n"
   ]
  },
  {
   "cell_type": "code",
   "execution_count": 3,
   "id": "098eceb2",
   "metadata": {},
   "outputs": [
    {
     "name": "stdout",
     "output_type": "stream",
     "text": [
      "Addition: [5 7 9]\n",
      "Subtraction: [-3 -3 -3]\n",
      "Multiplication: [ 4 10 18]\n",
      "Division: [4.  2.5 2. ]\n",
      "Modulus: [0 1 0]\n",
      "Power: [1 4 9]\n",
      "Square root: [1.         1.41421356 1.73205081]\n",
      "Exponential : [ 2.71828183  7.3890561  20.08553692]\n",
      "Logarithm : [0.         0.69314718 1.09861229]\n"
     ]
    }
   ],
   "source": [
    "\n",
    "a = np.array([1, 2, 3])\n",
    "b = np.array([4, 5, 6])\n",
    "\n",
    "print(\"Addition:\", a + b)          # [5 7 9]\n",
    "print(\"Subtraction:\", a - b)       # [-3 -3 -3]\n",
    "print(\"Multiplication:\", a * b)    # [4 10 18]\n",
    "print(\"Division:\", b / a)          # [4. 2.5 2.]\n",
    "print(\"Modulus:\", b % a)           # [0 1 0]\n",
    "print(\"Power:\", a ** 2)            # [1 4 9]\n",
    "print(\"Square root:\",np.sqrt(a))   # [1. 1.41421356 1.73205081]\n",
    "print(\"Exponential :\",np.exp(a))   # [ 2.71828183  7.3890561  20.08553692]\n",
    "print(\"Logarithm :\",np.log(a))     #  [0. 0.69314718 1.09861229]\n"
   ]
  },
  {
   "cell_type": "markdown",
   "id": "2a0e0495",
   "metadata": {},
   "source": [
    "### 2. Comparison Operators\n",
    "\n"
   ]
  },
  {
   "cell_type": "code",
   "execution_count": 4,
   "id": "133b3dcf",
   "metadata": {},
   "outputs": [
    {
     "name": "stdout",
     "output_type": "stream",
     "text": [
      "Equal: [False False False]\n",
      "Not Equal: [ True  True  True]\n",
      "Greater Than: [False False False]\n",
      "Less Than: [ True  True  True]\n"
     ]
    }
   ],
   "source": [
    " \n",
    "print(\"Equal:\", a == b)            # [False False False]\n",
    "print(\"Not Equal:\", a != b)        # [True True True]\n",
    "print(\"Greater Than:\", a > b)      # [False False False]\n",
    "print(\"Less Than:\", a < b)         # [True True True]\n"
   ]
  },
  {
   "cell_type": "markdown",
   "id": "165c4193",
   "metadata": {},
   "source": [
    "### 3. LOGICAL OPERATORS\n",
    "Use np.logical_and, np.logical_or, etc., or &, |, ~ for element-wise logic:"
   ]
  },
  {
   "cell_type": "code",
   "execution_count": 9,
   "id": "b5a85ffd",
   "metadata": {},
   "outputs": [
    {
     "name": "stdout",
     "output_type": "stream",
     "text": [
      "Logical AND: [False False  True]\n",
      "Logical OR: [ True False  True]\n",
      "Logical NOT: [False  True False]\n",
      "x & y: [False False  True]\n",
      "x | y: [ True False  True]\n",
      "~x   : [False  True False]\n"
     ]
    }
   ],
   "source": [
    "x = np.array([True, False, True])\n",
    "y = np.array([False, False, True])\n",
    "\n",
    "print(\"Logical AND:\", np.logical_and(x, y))    # [False False True]\n",
    "print(\"Logical OR:\", np.logical_or(x, y))      # [True False True]\n",
    "print(\"Logical NOT:\", np.logical_not(x))       # [False  True False]\n",
    "\n",
    "# Equivalent using bitwise operators (on boolean arrays)\n",
    "print(\"x & y:\", x & y)                         # [False False  True]\n",
    "print(\"x | y:\", x | y)                         # [ True False  True]\n",
    "print(\"~x   :\",~x)"
   ]
  },
  {
   "cell_type": "markdown",
   "id": "7d354d12",
   "metadata": {},
   "source": [
    "---\n",
    "## 🔸AGGREGATION OPERATIONS\n"
   ]
  },
  {
   "cell_type": "markdown",
   "id": "618c83e4",
   "metadata": {},
   "source": [
    "\n",
    " Aggregate functions :- They work as is for 1-D arrays and return single (int/float) values whereas for multi-dimensional arrays they work on flattened arrays unless axis is specified.\n",
    "\n",
    " 📝 **Note : IF AXIS IS SPECIFIED REFER TO :** [Concept_of_Axis](2_Concept%20of%20Axis.ipynb)\n",
    "\n",
    "\n",
    "\n",
    "\n",
    "    1. sum : Calculate sum across the flattened array / along the axis\n",
    "    2. min : Calculate minimum value across the flattened array / along the axis \n",
    "    3. max : Calculate maximum value across the flattened array / along the axis\n",
    "    4. mean : Calculate mean of values across the flattened array / along the axis\n",
    "    5. std : Calculate standard deviation across the flattened array / along the axis."
   ]
  },
  {
   "cell_type": "code",
   "execution_count": 6,
   "id": "0f312169",
   "metadata": {},
   "outputs": [
    {
     "name": "stdout",
     "output_type": "stream",
     "text": [
      "Without specifying axis (works on flattened array) :\n",
      "102\n",
      "9\n",
      "0\n",
      "4.25\n",
      "2.787621447279622\n"
     ]
    }
   ],
   "source": [
    "\n",
    "\n",
    "print(\"Without specifying axis (works on flattened array) :\")\n",
    "#a\n",
    "print(np.sum(arr))\n",
    "\n",
    "#b They work same as sum for axis\n",
    "print(np.max(arr))\n",
    "#c\n",
    "print(np.min(arr))\n",
    "#d\n",
    "print(np.mean(arr))\n",
    "\n",
    "#e\n",
    "print(np.std(arr)) # Standard deviation\n"
   ]
  },
  {
   "cell_type": "markdown",
   "id": "4918596e",
   "metadata": {},
   "source": [
    "---\n",
    "## 🔹INDEX FUNCTIONS\n",
    "\n",
    "1. `np.argmin()` : Calculate indices with minimum value(s) across the flattened array / along the axis\n",
    "2. `np.argmax()` : Calculate indices with maximum value(s) across the flattened array / along the axis\n",
    "3. `np.where()` :  Used to return an array with indices having elements matching particular condtions\n",
    "4. `np.nonzero()`  : Returns indices of non-zero elements."
   ]
  },
  {
   "cell_type": "code",
   "execution_count": 7,
   "id": "de54d128",
   "metadata": {},
   "outputs": [
    {
     "name": "stdout",
     "output_type": "stream",
     "text": [
      "6\n",
      "9\n",
      "[0 0 1 1]\n",
      "(array([2, 3]),)\n",
      "[30 40]\n",
      "(array([1, 2, 3]),)\n"
     ]
    }
   ],
   "source": [
    "#a\n",
    "print(np.argmin(arr))\n",
    "\n",
    "#b\n",
    "print(np.argmax(arr))\n",
    "\n",
    "#c\n",
    "#Use case - 1 \n",
    "a = np.array([10, 20, 30, 40])\n",
    "b = np.where(a > 25, 1, 0) # syntax 1: np.where(<condition>,value_if_true,value_if_false)\n",
    "print(b)  # Output: [0 0 1 1]\n",
    "\n",
    "#Use-case - 2\n",
    "idx = np.where(a > 25)\n",
    "print(idx)         # Output: (array([2, 3]),)\n",
    "print(a[idx])      # Output: [30 40]\n",
    "\n",
    "#d\n",
    "print(np.nonzero(a-10)) #Returns all non-zero indices"
   ]
  },
  {
   "cell_type": "markdown",
   "id": "1c5033e2",
   "metadata": {},
   "source": [
    "---\n",
    "## CUMULATIVE FUNCTIONS\n",
    "\n",
    "1. `np.cumsum()`: Returns a new array where each element is the sum of all previous elements (including itself).\n",
    "2. `np.cumprod()` : Returns a new array where each element is the product of all previous elements (including itself).\n",
    "3. `np.diff()` : Returns an array giving the difference between consecutive elements."
   ]
  },
  {
   "cell_type": "code",
   "execution_count": 8,
   "id": "299b8e41",
   "metadata": {},
   "outputs": [
    {
     "name": "stdout",
     "output_type": "stream",
     "text": [
      "[ 1  3  6 10]\n",
      "[ 1  2  6 24]\n",
      "[3 4 4]\n"
     ]
    }
   ],
   "source": [
    "\n",
    "# 1\n",
    "a = np.array([1, 2, 3, 4])\n",
    "print(np.cumsum(a))\n",
    "# Output: array([ 1,  3,  6, 10])\n",
    "\n",
    "\n",
    "#2 \n",
    "a = np.array([1, 2, 3, 4])\n",
    "print(np.cumprod(a))\n",
    "# Output: array([ 1,  2,  6, 24])\n",
    "\n",
    "#3 \n",
    "a = np.array([10, 13, 17, 21])\n",
    "print(np.diff(a))\n",
    "# Output: array([3, 4, 4])  → [13-10, 17-13, 21-17]"
   ]
  }
 ],
 "metadata": {
  "kernelspec": {
   "display_name": ".venv",
   "language": "python",
   "name": "python3"
  },
  "language_info": {
   "codemirror_mode": {
    "name": "ipython",
    "version": 3
   },
   "file_extension": ".py",
   "mimetype": "text/x-python",
   "name": "python",
   "nbconvert_exporter": "python",
   "pygments_lexer": "ipython3",
   "version": "3.12.2"
  }
 },
 "nbformat": 4,
 "nbformat_minor": 5
}

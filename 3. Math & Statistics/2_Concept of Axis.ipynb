{
 "cells": [
  {
   "cell_type": "markdown",
   "id": "409a823f",
   "metadata": {},
   "source": [
    "# 💡 Concept of Axis \n",
    "\n",
    "Whenever we ought to calculate any aggregate function on an array with shape(a,b,c,d,....) along a particular axis n, the resultant will be of the shape will not have the nth parameter.\n",
    "\n",
    "Perform the aggregated operation along the eliminated dimension (sum,mean,max,min,std etc.)\n",
    "\n",
    "eg. if n=0, resultant will be of shape (b,c,d,...)\n",
    "and if n=1, resultant will be if shape (a,c,d,...)\n"
   ]
  },
  {
   "cell_type": "code",
   "execution_count": 4,
   "id": "2033587a",
   "metadata": {},
   "outputs": [
    {
     "name": "stdout",
     "output_type": "stream",
     "text": [
      "[[[2 7 3]\n",
      "  [4 1 6]\n",
      "  [0 5 8]\n",
      "  [9 2 3]]\n",
      "\n",
      " [[6 4 0]\n",
      "  [7 1 5]\n",
      "  [8 2 9]\n",
      "  [3 6 1]]]\n",
      "With axis =0 , we do column wise sum operation\n",
      "[[ 8 11  3]\n",
      " [11  2 11]\n",
      " [ 8  7 17]\n",
      " [12  8  4]]\n",
      "With axis =1 , we do row wise sum operation\n",
      "[[15 15 20]\n",
      " [24 13 15]]\n",
      "With axis =2 , we do row wise sum operation\n",
      "[[12 11 13 14]\n",
      " [10 13 19 10]]\n",
      "Without specifying axis (works on flattened array) :\n",
      "102\n",
      "\n",
      "\n",
      " THIS WORKS JUST AS WELL FOR ALL THE AGGREGATE FUNCTIONS\n"
     ]
    }
   ],
   "source": [
    "\n",
    "import numpy as np\n",
    "\n",
    "arr = np.array([\n",
    "    [[2, 7, 3],\n",
    "     [4, 1, 6],\n",
    "     [0, 5, 8],\n",
    "     [9, 2, 3]],\n",
    "\n",
    "    [[6, 4, 0],\n",
    "     [7, 1, 5],\n",
    "     [8, 2, 9],\n",
    "     [3, 6, 1]]\n",
    "])\n",
    "\n",
    "print(arr)\n",
    "#a \n",
    "print(\"With axis =0 , we do column wise sum operation\")\n",
    "print(np.sum(arr,axis=0))   \n",
    "\n",
    "print(\"With axis =1 , we do row wise sum operation\")\n",
    "print(np.sum(arr,axis=1))   \n",
    "\n",
    "print(\"With axis =2 , we do row wise sum operation\")\n",
    "print(np.sum(arr,axis=2))   \n",
    "\n",
    "print(\"Without specifying axis (works on flattened array) :\")\n",
    "print(np.sum(arr))\n",
    "\n",
    "print(\"\\n\\n THIS WORKS JUST AS WELL FOR ALL THE AGGREGATE FUNCTIONS\")\n",
    "\n"
   ]
  }
 ],
 "metadata": {
  "kernelspec": {
   "display_name": ".venv",
   "language": "python",
   "name": "python3"
  },
  "language_info": {
   "codemirror_mode": {
    "name": "ipython",
    "version": 3
   },
   "file_extension": ".py",
   "mimetype": "text/x-python",
   "name": "python",
   "nbconvert_exporter": "python",
   "pygments_lexer": "ipython3",
   "version": "3.12.2"
  }
 },
 "nbformat": 4,
 "nbformat_minor": 5
}

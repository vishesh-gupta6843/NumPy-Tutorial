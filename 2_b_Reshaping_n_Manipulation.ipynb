{
 "cells": [
  {
   "cell_type": "code",
   "execution_count": 2,
   "id": "c88068ac",
   "metadata": {},
   "outputs": [],
   "source": [
    "import numpy as np"
   ]
  },
  {
   "cell_type": "markdown",
   "id": "905fcdd2",
   "metadata": {},
   "source": [
    "# ARRAY MANIPULATION"
   ]
  },
  {
   "cell_type": "markdown",
   "id": "b181842c",
   "metadata": {},
   "source": [
    "## reshape()\n",
    "\n",
    "Note : reshape() does not change or modify the actual/source array, it only creates a reshaped copy"
   ]
  },
  {
   "cell_type": "code",
   "execution_count": null,
   "id": "bd856bbd",
   "metadata": {},
   "outputs": [
    {
     "name": "stdout",
     "output_type": "stream",
     "text": [
      "[[1 2 3]\n",
      " [4 5 6]]\n"
     ]
    }
   ],
   "source": [
    "\n",
    "\n",
    "arr = np.array([1, 2, 3, 4, 5, 6])\n",
    "reshaped = arr.reshape((2, 3))  # 2 rows, 3 columns\n",
    "print(reshaped)\n",
    "\n",
    "\n",
    "# Automatically deciding dimension size\n",
    "reshaped=arr.reshape((-1,2)) # Numpy will automatically decide the number of rows\n",
    "print(reshaped)\n",
    "\n",
    "\n",
    "\n",
    "#Output :\n",
    "# [[1 2 3]\n",
    "#  [4 5 6]]\n"
   ]
  },
  {
   "cell_type": "markdown",
   "id": "af0733ad",
   "metadata": {},
   "source": [
    "## ravel()\n",
    "\n",
    "Returns a flattened view of the original array if possible.\n",
    "\n",
    "No data is copied (i.e., it's a shallow copy), so changes in the raveled array may affect the original.\n",
    "\n",
    "Faster and more memory-efficient."
   ]
  },
  {
   "cell_type": "code",
   "execution_count": 3,
   "id": "f5745902",
   "metadata": {},
   "outputs": [
    {
     "name": "stdout",
     "output_type": "stream",
     "text": [
      "[99  2  3  4]\n",
      "[[99  2]\n",
      " [ 3  4]]\n"
     ]
    }
   ],
   "source": [
    "\n",
    "##eg.\n",
    "\n",
    "a=np.array([[1,2],[3,4]])\n",
    "\n",
    "r=a.ravel() # Creates a shallow copy\n",
    "\n",
    "r[0]=99\n",
    "\n",
    "print(r)\n",
    "print(a) # Changes are also reflected in a\n",
    "\n"
   ]
  },
  {
   "cell_type": "markdown",
   "id": "cc4adcee",
   "metadata": {},
   "source": [
    "## flatten() \n",
    "\n",
    "Always returns a copy of the array (i.e., a deep copy).\n",
    "\n",
    "Changes to the flattened array do not affect the original.\n",
    "\n",
    "Slightly slower and uses more memory"
   ]
  },
  {
   "cell_type": "code",
   "execution_count": null,
   "id": "64f161e3",
   "metadata": {},
   "outputs": [
    {
     "name": "stdout",
     "output_type": "stream",
     "text": [
      "[99  2  3  4]\n",
      "[[1 2]\n",
      " [3 4]]\n"
     ]
    }
   ],
   "source": [
    "a=np.array([[1,2],[3,4]])\n",
    "\n",
    "r=a.flatten() # Creates a true copy\n",
    "\n",
    "r[0]=99\n",
    "\n",
    "print(r)\n",
    "print(a) # Changes are not reflected in a"
   ]
  },
  {
   "cell_type": "code",
   "execution_count": null,
   "id": "12f0ebda",
   "metadata": {},
   "outputs": [],
   "source": []
  }
 ],
 "metadata": {
  "kernelspec": {
   "display_name": "Python 3",
   "language": "python",
   "name": "python3"
  },
  "language_info": {
   "codemirror_mode": {
    "name": "ipython",
    "version": 3
   },
   "file_extension": ".py",
   "mimetype": "text/x-python",
   "name": "python",
   "nbconvert_exporter": "python",
   "pygments_lexer": "ipython3",
   "version": "3.10.11"
  }
 },
 "nbformat": 4,
 "nbformat_minor": 5
}

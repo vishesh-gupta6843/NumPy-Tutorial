{
 "cells": [
  {
   "cell_type": "markdown",
   "id": "bf268a1a",
   "metadata": {},
   "source": [
    "# ARRAY MODIFICATION \n",
    "In numpy arrays unlike python lists, inplace modifications like insert, append etc are not allowed as the array has fixed size like traditional c,c++ arrays, every time there is any modification a new array is created and returned by the following methods.\n",
    "\n",
    "Following are some main functions :-\n",
    "\n",
    "1. insert()\n",
    "2. append()\n",
    "3. concatenate()\n",
    "4. delete()\n",
    "\n"
   ]
  }
 ],
 "metadata": {
  "language_info": {
   "name": "python"
  }
 },
 "nbformat": 4,
 "nbformat_minor": 5
}

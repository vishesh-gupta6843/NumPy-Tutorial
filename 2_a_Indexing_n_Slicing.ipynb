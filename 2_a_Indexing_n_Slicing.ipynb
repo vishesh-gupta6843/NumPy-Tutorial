{
 "cells": [
  {
   "cell_type": "code",
   "execution_count": 1,
   "id": "b471671e",
   "metadata": {},
   "outputs": [],
   "source": [
    "import numpy as np"
   ]
  },
  {
   "cell_type": "markdown",
   "id": "3690d549",
   "metadata": {},
   "source": [
    "## INDEXING AND SLICING\n",
    "\n",
    "#### Indexing and Slicing work pretty much the same in numpy arrays as in lists in python along with fewer new concepts."
   ]
  },
  {
   "cell_type": "markdown",
   "id": "0f35c477",
   "metadata": {},
   "source": [
    "## 1. FANCY INDEXING\n",
    "\n",
    "Used to slice particular indexes(generally non-sequential) or limitedly sequential"
   ]
  },
  {
   "cell_type": "code",
   "execution_count": null,
   "id": "dc922f18",
   "metadata": {},
   "outputs": [
    {
     "name": "stdout",
     "output_type": "stream",
     "text": [
      "[10 30 40]\n"
     ]
    }
   ],
   "source": [
    "arr=np.array([10,20,30,40,50])\n",
    "\n",
    "print(arr[[0,2,3]])#Pass a list within the index that contains indexes to be selected"
   ]
  },
  {
   "cell_type": "markdown",
   "id": "4d0b82e0",
   "metadata": {},
   "source": [
    "## 2. BOOLEAN MASKING\n",
    "Used to slice elements that meet certain conditions specified within braces.\n",
    "\n",
    "\n",
    "#### Caution :\n",
    "The Python keywords and and or do not work with Boolean arrays. Use & (and) and | (or) instead."
   ]
  },
  {
   "cell_type": "code",
   "execution_count": 19,
   "id": "7ddbd489",
   "metadata": {},
   "outputs": [
    {
     "name": "stdout",
     "output_type": "stream",
     "text": [
      "[ True False False  True False False False] \n",
      "\n",
      "[[4 7]\n",
      " [0 0]] \n",
      "\n",
      "[[7]\n",
      " [0]] \n",
      "\n",
      "[7 0] \n",
      "\n",
      "[7 6 0 2] \n",
      "\n",
      "[[ 4  7]\n",
      " [-5  6]\n",
      " [ 0  0]\n",
      " [ 1  2]]\n"
     ]
    }
   ],
   "source": [
    "names = np.array([\"Bob\", \"Joe\", \"Will\", \"Bob\", \"Will\", \"Joe\", \"Joe\"])\n",
    "data = np.array([[4, 7], [0, 2], [-5, 6], [0, 0], [1, 2],[-12, -4], [3, 4]])\n",
    "\n",
    "print(names==\"Bob\",\"\\n\")\n",
    "\n",
    "print(data[names==\"Bob\"],\"\\n\")\n",
    "\n",
    "print(data[names==\"Bob\",1:],\"\\n\")\n",
    "\n",
    "print(data[names==\"Bob\",1],\"\\n\")\n",
    "\n",
    "print(data[(names==\"Bob\") | (names==\"Will\"),1],\"\\n\")\n",
    "print(data[(names==\"Bob\") | (names==\"Will\")])\n",
    "# Alternative\n",
    "# cond=(names==\"Bob\") | (names==\"Will\")\n",
    "# print(data[cond])\n",
    "\n",
    "\n"
   ]
  },
  {
   "cell_type": "markdown",
   "id": "31102957",
   "metadata": {},
   "source": [
    "## 3. INDEXING WITH SLICING(V.imp)\n"
   ]
  },
  {
   "cell_type": "code",
   "execution_count": 10,
   "id": "b1c08bf0",
   "metadata": {},
   "outputs": [
    {
     "name": "stdout",
     "output_type": "stream",
     "text": [
      "[[2 3]\n",
      " [5 6]]\n",
      "[[4 5 6]]\n"
     ]
    },
    {
     "data": {
      "text/plain": [
       "'\\n[:2] selects first two elements of array :-\\narray([[1, 2, 3],\\n       [4, 5, 6]])\\n\\n[1:] selects the 2nd element onwards from above result\\n'"
      ]
     },
     "execution_count": 10,
     "metadata": {},
     "output_type": "execute_result"
    }
   ],
   "source": [
    "arr2d=np.array([[1, 2, 3],\n",
    "       [4, 5, 6],\n",
    "       [7, 8, 9]])\n",
    "\n",
    "print(arr2d[:2,1:]) \n",
    "'''\n",
    ":2 selects the first two rows → [[1,2,3], [4,5,6]]\n",
    "1: selects the columns from index 1 onward → [[2,3], [5,6]]\n",
    "'''\n",
    "print(arr2d[:2][1:])\n",
    "'''\n",
    "[:2] selects first two elements of array :-\n",
    "array([[1, 2, 3],\n",
    "       [4, 5, 6]])\n",
    "\n",
    "[1:] selects the 2nd element onwards from above result\n",
    "'''  "
   ]
  }
 ],
 "metadata": {
  "kernelspec": {
   "display_name": "Python 3",
   "language": "python",
   "name": "python3"
  },
  "language_info": {
   "codemirror_mode": {
    "name": "ipython",
    "version": 3
   },
   "file_extension": ".py",
   "mimetype": "text/x-python",
   "name": "python",
   "nbconvert_exporter": "python",
   "pygments_lexer": "ipython3",
   "version": "3.10.11"
  }
 },
 "nbformat": 4,
 "nbformat_minor": 5
}

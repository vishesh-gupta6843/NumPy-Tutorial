{
 "cells": [
  {
   "cell_type": "code",
   "execution_count": 1,
   "id": "af8ae332",
   "metadata": {},
   "outputs": [],
   "source": [
    "import numpy as np"
   ]
  },
  {
   "cell_type": "markdown",
   "id": "0615987d",
   "metadata": {},
   "source": [
    "## 4. MATRIX OPERATIONS\n"
   ]
  },
  {
   "cell_type": "code",
   "execution_count": null,
   "id": "547d29bf",
   "metadata": {},
   "outputs": [],
   "source": [
    "A = np.array([[1, 2], [3, 4]])\n",
    "print(A)\n",
    "B = np.array([[5, 6], [7, 8]])\n",
    "print(B)\n"
   ]
  },
  {
   "cell_type": "markdown",
   "id": "252a1be0",
   "metadata": {},
   "source": [
    "### Dot Product"
   ]
  },
  {
   "cell_type": "code",
   "execution_count": null,
   "id": "c88478f7",
   "metadata": {},
   "outputs": [],
   "source": [
    "\n",
    "# Dot product:  @ operator\n",
    "print(\"Matrix Multiplication :\" ,A @ B)\n"
   ]
  },
  {
   "cell_type": "markdown",
   "id": "7c16ae42",
   "metadata": {},
   "source": [
    "\n",
    "### Transpose"
   ]
  },
  {
   "cell_type": "code",
   "execution_count": 7,
   "id": "457c225d",
   "metadata": {},
   "outputs": [
    {
     "name": "stdout",
     "output_type": "stream",
     "text": [
      "Transpose of A :[[1 3]\n",
      " [2 4]]\n"
     ]
    }
   ],
   "source": [
    "\n",
    "# Transpose: np.transpose(arr,axis)\n",
    "print(f\"Transpose of A :{np.transpose(A)}\")\n"
   ]
  },
  {
   "cell_type": "markdown",
   "id": "0f4d852e",
   "metadata": {},
   "source": [
    "### Inverse"
   ]
  },
  {
   "cell_type": "code",
   "execution_count": null,
   "id": "d0e5a9fd",
   "metadata": {},
   "outputs": [],
   "source": [
    "# For many operations we use the linalg sub-package in numpy\n",
    "# Inverse: np.linalg.inv()\n",
    "print(f\"Inverse of A {np.linalg.inv(A)}\")\n"
   ]
  },
  {
   "cell_type": "markdown",
   "id": "6f843c04",
   "metadata": {},
   "source": [
    "### Determinant & Eigenvalues"
   ]
  },
  {
   "cell_type": "code",
   "execution_count": null,
   "id": "e7c1e4c1",
   "metadata": {},
   "outputs": [],
   "source": [
    "\n",
    "# Determinant: np.linalg.det()\n",
    "print(f\"Determinant of A :{np.linalg.det(A)}\")\n"
   ]
  },
  {
   "cell_type": "code",
   "execution_count": null,
   "id": "16621cf5",
   "metadata": {},
   "outputs": [],
   "source": [
    "\n",
    "# Eigenvalues/vectors: np.linalg.eig()\n",
    "# Use when required\n"
   ]
  },
  {
   "cell_type": "markdown",
   "id": "e42a4089",
   "metadata": {},
   "source": [
    "### SOLVING A SYSTEM OF LINEAR EQN.\n",
    "\n",
    "Using np.linalg.solve() function we can solve a system of equations AX = B , where A is a square matrix and has square no. of variables as contained by X which is a column matrix. B has the same dimensions as that of X."
   ]
  },
  {
   "cell_type": "code",
   "execution_count": null,
   "id": "25a3b6b7",
   "metadata": {},
   "outputs": [
    {
     "name": "stdout",
     "output_type": "stream",
     "text": [
      "[-7.  0.  4.]\n"
     ]
    }
   ],
   "source": [
    "A=np.array([[1,10,3],[1,9,4],[2,3,6]])\n",
    "B=np.array([5,9,10])\n",
    "X=np.linalg.solve(A,B)\n",
    "print(X)\n"
   ]
  },
  {
   "cell_type": "markdown",
   "id": "e1aa3d41",
   "metadata": {},
   "source": [
    "### TRACE OF A MATRIX\n",
    "Sum of all the diagonal elements."
   ]
  },
  {
   "cell_type": "code",
   "execution_count": 5,
   "id": "d804aedd",
   "metadata": {},
   "outputs": [
    {
     "name": "stdout",
     "output_type": "stream",
     "text": [
      "[[ 1 10  3]\n",
      " [ 1  9  4]\n",
      " [ 2  3  6]]\n",
      "16\n"
     ]
    }
   ],
   "source": [
    "Trace=np.trace(A)\n",
    "print(A)\n",
    "print(Trace)"
   ]
  }
 ],
 "metadata": {
  "kernelspec": {
   "display_name": "venv",
   "language": "python",
   "name": "python3"
  },
  "language_info": {
   "codemirror_mode": {
    "name": "ipython",
    "version": 3
   },
   "file_extension": ".py",
   "mimetype": "text/x-python",
   "name": "python",
   "nbconvert_exporter": "python",
   "pygments_lexer": "ipython3",
   "version": "undefined.undefined.undefined"
  }
 },
 "nbformat": 4,
 "nbformat_minor": 5
}

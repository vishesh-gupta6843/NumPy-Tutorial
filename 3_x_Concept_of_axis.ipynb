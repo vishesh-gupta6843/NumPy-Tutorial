{
 "cells": [
  {
   "cell_type": "markdown",
   "id": "409a823f",
   "metadata": {},
   "source": [
    "## Concept of Axis :\n",
    "Whenever we ought to calculate any aggregate function on an array with shape(a,b,c,d,....) along a particular axis n, the resultant will be of the shape will not have the nth parameter \n",
    "\n",
    "eg. if n=0, resultant will be of shape (b,c,d,...)\n",
    "and if n=1, resultant will be if shape (a,c,d,...)\n"
   ]
  },
  {
   "cell_type": "code",
   "execution_count": 1,
   "id": "0a52e3dd",
   "metadata": {},
   "outputs": [],
   "source": [
    "import numpy as np"
   ]
  },
  {
   "cell_type": "code",
   "execution_count": 2,
   "id": "2033587a",
   "metadata": {},
   "outputs": [
    {
     "name": "stdout",
     "output_type": "stream",
     "text": [
      "[[[2 7 3]\n",
      "  [4 1 6]\n",
      "  [0 5 8]\n",
      "  [9 2 3]]\n",
      "\n",
      " [[6 4 0]\n",
      "  [7 1 5]\n",
      "  [8 2 9]\n",
      "  [3 6 1]]]\n",
      "With axis =0 , we do column wise sum operation\n",
      "[[ 8 11  3]\n",
      " [11  2 11]\n",
      " [ 8  7 17]\n",
      " [12  8  4]]\n",
      "With axis =1 , we do row wise sum operation\n",
      "[[15 15 20]\n",
      " [24 13 15]]\n",
      "With axis =2 , we do row wise sum operation\n",
      "[[12 11 13 14]\n",
      " [10 13 19 10]]\n",
      "Without specifying axis (works on flattened array) :\n",
      "102\n"
     ]
    }
   ],
   "source": [
    "\n",
    "#5 \n",
    "# arr = np.arange(1,25).reshape(2,3,4)\n",
    "# arr = np.random.randint(0, 10, size=(2, 4, 3))\n",
    "\n",
    "arr = np.array([\n",
    "    [[2, 7, 3],\n",
    "     [4, 1, 6],\n",
    "     [0, 5, 8],\n",
    "     [9, 2, 3]],\n",
    "\n",
    "    [[6, 4, 0],\n",
    "     [7, 1, 5],\n",
    "     [8, 2, 9],\n",
    "     [3, 6, 1]]\n",
    "])\n",
    "\n",
    "print(arr)\n",
    "#a \n",
    "print(\"With axis =0 , we do column wise sum operation\")\n",
    "print(np.sum(arr,axis=0))   \n",
    "\n",
    "print(\"With axis =1 , we do row wise sum operation\")\n",
    "print(np.sum(arr,axis=1))   \n",
    "\n",
    "print(\"With axis =2 , we do row wise sum operation\")\n",
    "print(np.sum(arr,axis=2))   \n",
    "\n",
    "print(\"Without specifying axis (works on flattened array) :\")\n",
    "print(np.sum(arr))\n",
    "\n"
   ]
  }
 ],
 "metadata": {
  "kernelspec": {
   "display_name": "venv",
   "language": "python",
   "name": "python3"
  },
  "language_info": {
   "codemirror_mode": {
    "name": "ipython",
    "version": 3
   },
   "file_extension": ".py",
   "mimetype": "text/x-python",
   "name": "python",
   "nbconvert_exporter": "python",
   "pygments_lexer": "ipython3",
   "version": "3.10.11"
  }
 },
 "nbformat": 4,
 "nbformat_minor": 5
}

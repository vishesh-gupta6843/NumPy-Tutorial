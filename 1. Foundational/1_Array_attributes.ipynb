{
 "cells": [
  {
   "cell_type": "markdown",
   "id": "573db129",
   "metadata": {},
   "source": [
    "# 📘 NumPy ARRAY ATTRIBUTES\n",
    "\n",
    "\n",
    "## 🔹 What are NumPy array attributes ?\n",
    "A NumPy array is an object that has the following attributes :-\n",
    "\n",
    "---"
   ]
  },
  {
   "cell_type": "markdown",
   "id": "afcc7c92",
   "metadata": {},
   "source": [
    "###  `.shape`  \n",
    "\n",
    "Refers to the size of each dimension represented in tuple form\n"
   ]
  },
  {
   "cell_type": "code",
   "execution_count": 1,
   "id": "73a90dec",
   "metadata": {},
   "outputs": [
    {
     "name": "stdout",
     "output_type": "stream",
     "text": [
      "(2, 3)\n"
     ]
    }
   ],
   "source": [
    "import numpy as np\n",
    "\n",
    "arr2D = np.array([[1, 2, 3], [4, 5, 6]])\n",
    "print(arr2D.shape)   \n"
   ]
  },
  {
   "cell_type": "markdown",
   "id": "d036faf3",
   "metadata": {},
   "source": [
    "---\n",
    "\n",
    "## `.dtype` \n",
    "\n",
    "Refers to data type stored in the homogenous array\n"
   ]
  },
  {
   "cell_type": "code",
   "execution_count": 2,
   "id": "a359548c",
   "metadata": {},
   "outputs": [
    {
     "name": "stdout",
     "output_type": "stream",
     "text": [
      "int64\n",
      "[1.  2.5 3. ]\n",
      "float64\n"
     ]
    }
   ],
   "source": [
    "\n",
    "\n",
    "#2\n",
    "arr = np.array([1, 2, 3])\n",
    "print(arr.dtype)  # int64\n",
    "\n",
    "arr_mixed = np.array([1, 2.5, 3])\n",
    "print(arr_mixed)  # [1.  2.5 3. ]\n",
    "print(arr_mixed.dtype)  # float64 (all converted to float) each one is converted to higher data type\n"
   ]
  },
  {
   "cell_type": "markdown",
   "id": "d0727ac8",
   "metadata": {},
   "source": [
    "---\n",
    "## `.ndim `\n",
    "\n",
    "Refers to the number of dimensions of the array\n"
   ]
  },
  {
   "cell_type": "code",
   "execution_count": 3,
   "id": "a2011285",
   "metadata": {},
   "outputs": [
    {
     "name": "stdout",
     "output_type": "stream",
     "text": [
      "2\n"
     ]
    }
   ],
   "source": [
    "\n",
    "#3\n",
    "print(arr2D.ndim)    # 2\n"
   ]
  },
  {
   "cell_type": "markdown",
   "id": "9caae800",
   "metadata": {},
   "source": [
    "## `.size`  \n",
    "\n",
    "Returns the total number of elements in the entire NumPy array.\n",
    "Works for arrays of any shape or dimension.\n",
    " \n"
   ]
  },
  {
   "cell_type": "code",
   "execution_count": 4,
   "id": "06c9617e",
   "metadata": {},
   "outputs": [
    {
     "name": "stdout",
     "output_type": "stream",
     "text": [
      "6\n"
     ]
    }
   ],
   "source": [
    "import numpy as np\n",
    "arr = np.array([[1, 2, 3], [4, 5, 6]])\n",
    "print(arr.size)   # Output: 6 (2 rows × 3 columns)\n"
   ]
  },
  {
   "cell_type": "markdown",
   "id": "4aead5ca",
   "metadata": {},
   "source": [
    "---\n",
    "## OPERATOR OVERLOADING\n",
    "\n",
    "📝  Note :-\n",
    "Operators are generally applied in the case when shape of two operand arrays is same, in other cases concepts of          broadcasting are applied but they may fail.\n"
   ]
  },
  {
   "cell_type": "markdown",
   "id": "fca7a389",
   "metadata": {},
   "source": [
    "### UNARY OPERATOR"
   ]
  },
  {
   "cell_type": "code",
   "execution_count": 5,
   "id": "eb4d2663",
   "metadata": {},
   "outputs": [
    {
     "name": "stdout",
     "output_type": "stream",
     "text": [
      "Negation: [ 1  0 -1]\n"
     ]
    }
   ],
   "source": [
    "import numpy as np\n",
    "a = np.array([-1, 0, 1])\n",
    "print(\"Negation:\", -a)           # [1 0 -1]\n"
   ]
  },
  {
   "cell_type": "markdown",
   "id": "c2ff7abd",
   "metadata": {},
   "source": []
  }
 ],
 "metadata": {
  "kernelspec": {
   "display_name": ".venv",
   "language": "python",
   "name": "python3"
  },
  "language_info": {
   "codemirror_mode": {
    "name": "ipython",
    "version": 3
   },
   "file_extension": ".py",
   "mimetype": "text/x-python",
   "name": "python",
   "nbconvert_exporter": "python",
   "pygments_lexer": "ipython3",
   "version": "3.12.2"
  }
 },
 "nbformat": 4,
 "nbformat_minor": 5
}

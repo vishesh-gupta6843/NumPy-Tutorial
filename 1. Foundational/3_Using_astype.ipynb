{
 "cells": [
  {
   "cell_type": "code",
   "execution_count": null,
   "id": "864359c5",
   "metadata": {},
   "outputs": [],
   "source": [
    "import numpy as np\n"
   ]
  },
  {
   "cell_type": "markdown",
   "id": "21fa88df",
   "metadata": {},
   "source": [
    "# Type Conversion using `np.astype()`\n",
    "\n",
    "This is used to **convert** the data type of array elements **to** another **feasible datatype**.\n",
    "\n",
    "**Syntax :** `array.astype(new_dtype)`\n"
   ]
  },
  {
   "cell_type": "code",
   "execution_count": 2,
   "id": "3009c053",
   "metadata": {},
   "outputs": [
    {
     "name": "stdout",
     "output_type": "stream",
     "text": [
      "Original: [1.1 2.2 3.3]\n",
      "Converted to int: [1 2 3]\n"
     ]
    }
   ],
   "source": [
    "# Original array of floats\n",
    "arr = np.array([1.1, 2.2, 3.3])\n",
    "\n",
    "# Convert to integers\n",
    "int_arr = arr.astype(int)\n",
    "\n",
    "print(\"Original:\", arr)\n",
    "print(\"Converted to int:\", int_arr)\n"
   ]
  },
  {
   "cell_type": "code",
   "execution_count": null,
   "id": "c0404c4b",
   "metadata": {},
   "outputs": [
    {
     "data": {
      "text/plain": [
       "array([1.1, 2.2, 3.3])"
      ]
     },
     "execution_count": 3,
     "metadata": {},
     "output_type": "execute_result"
    }
   ],
   "source": [
    "np.array(['1.1', '2.2', '3.3']).astype(float)"
   ]
  }
 ],
 "metadata": {
  "kernelspec": {
   "display_name": ".venv",
   "language": "python",
   "name": "python3"
  },
  "language_info": {
   "codemirror_mode": {
    "name": "ipython",
    "version": 3
   },
   "file_extension": ".py",
   "mimetype": "text/x-python",
   "name": "python",
   "nbconvert_exporter": "python",
   "pygments_lexer": "ipython3",
   "version": "3.12.2"
  }
 },
 "nbformat": 4,
 "nbformat_minor": 5
}

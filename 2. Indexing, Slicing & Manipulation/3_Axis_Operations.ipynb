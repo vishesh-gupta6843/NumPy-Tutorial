{
 "cells": [
  {
   "cell_type": "code",
   "execution_count": 4,
   "id": "7595a5ea",
   "metadata": {},
   "outputs": [],
   "source": [
    "import numpy as np"
   ]
  },
  {
   "cell_type": "markdown",
   "id": "a8ac34fd",
   "metadata": {},
   "source": [
    "# AXIS OPERATIONS\n",
    "\n",
    "Operations involving manipulation around the axis of the array.\n",
    "\n",
    "Mainly two operations :- `np.swapaxes()` , `np.moveaxis() (⭐⭐⭐)`\n",
    "\n",
    "---"
   ]
  },
  {
   "cell_type": "markdown",
   "id": "351935dc",
   "metadata": {},
   "source": [
    "## `np.swapaxes()`\n",
    "\n",
    "It is used to interchange(swap) the dimensions of the axes passed as arguments. \n",
    "\n",
    "**Syntax :** `np.swapaxes(array_name,first_Axis,second_Axis)`\n",
    "\n",
    "eg."
   ]
  },
  {
   "cell_type": "code",
   "execution_count": 5,
   "id": "431a16e8",
   "metadata": {},
   "outputs": [
    {
     "name": "stdout",
     "output_type": "stream",
     "text": [
      "Original Array :\n",
      "[[[1 2]\n",
      "  [3 4]]]\n",
      "Shape of above array : (1, 2, 2)\n",
      "Swapped Array :\n",
      "[[[1 2]]\n",
      "\n",
      " [[3 4]]]\n",
      "Swapped shape: (2, 1, 2)\n"
     ]
    }
   ],
   "source": [
    "arr = np.array([[[1, 2], [3, 4]]])  \n",
    "print(f\"Original Array :\\n{arr}\")\n",
    "print(f\"Shape of above array : {arr.shape}\")# Shape: (1, 2, 2)\n",
    "swapped = np.swapaxes(arr, 0, 1)\n",
    "print(f\"Swapped Array :\\n{swapped}\")\n",
    "print(\"Swapped shape:\", swapped.shape)   # Shape: (2, 1, 2)"
   ]
  },
  {
   "cell_type": "markdown",
   "id": "2841d6df",
   "metadata": {},
   "source": [
    "--- \n",
    "## `np.moveaxis()` [more functional]\n",
    "\n",
    "**Syntax :** `np.moveaxis(array, source, destination)`\n",
    "\n",
    "source: index(es) of the axis you want to move.\n",
    "\n",
    "destination: where you want that axis to go.\n",
    "\n",
    "📝 **Note** : It does not modify the array in place — it returns a view with the axes moved.\n",
    "\n",
    "Following are some examples :-\n",
    "\n",
    "---"
   ]
  },
  {
   "cell_type": "markdown",
   "id": "fb1b95c0",
   "metadata": {},
   "source": [
    "### Example 1: Move a single axis"
   ]
  },
  {
   "cell_type": "code",
   "execution_count": 6,
   "id": "7ac508d8",
   "metadata": {},
   "outputs": [
    {
     "name": "stdout",
     "output_type": "stream",
     "text": [
      "(4, 5, 3)\n"
     ]
    }
   ],
   "source": [
    "arr = np.zeros((3, 4, 5))  # Shape: (3, 4, 5)\n",
    "\n",
    "# Move axis 0 (first) to the end\n",
    "moved = np.moveaxis(arr, 0, -1)\n",
    "\n",
    "print(moved.shape)  # (4, 5, 3)"
   ]
  },
  {
   "cell_type": "markdown",
   "id": "44883ca5",
   "metadata": {},
   "source": [
    "---  \n",
    "### Example 2: Move axis 2 to position 0"
   ]
  },
  {
   "cell_type": "code",
   "execution_count": 7,
   "id": "07c563d5",
   "metadata": {},
   "outputs": [
    {
     "name": "stdout",
     "output_type": "stream",
     "text": [
      "(4, 2, 3)\n"
     ]
    }
   ],
   "source": [
    "arr = np.ones((2, 3, 4))  # Shape: (2, 3, 4)\n",
    "\n",
    "moved = np.moveaxis(arr, 2, 0)\n",
    "\n",
    "print(moved.shape)  # (4, 2, 3)"
   ]
  },
  {
   "cell_type": "markdown",
   "id": "4f4566a0",
   "metadata": {},
   "source": [
    "---\n",
    "### Example 3: Move multiple axes"
   ]
  },
  {
   "cell_type": "code",
   "execution_count": 8,
   "id": "e56e405f",
   "metadata": {},
   "outputs": [
    {
     "name": "stdout",
     "output_type": "stream",
     "text": [
      "(5, 3, 2, 4)\n"
     ]
    }
   ],
   "source": [
    "arr = np.random.rand(2, 3, 4, 5)  # Shape: (2, 3, 4, 5)\n",
    "\n",
    "# Move axes 0 and 3 to positions 2 and 0\n",
    "moved = np.moveaxis(arr, [0, 3], [2, 0])\n",
    "\n",
    "print(moved.shape)  # (5, 3, 2, 4)\n"
   ]
  }
 ],
 "metadata": {
  "kernelspec": {
   "display_name": ".venv",
   "language": "python",
   "name": "python3"
  },
  "language_info": {
   "codemirror_mode": {
    "name": "ipython",
    "version": 3
   },
   "file_extension": ".py",
   "mimetype": "text/x-python",
   "name": "python",
   "nbconvert_exporter": "python",
   "pygments_lexer": "ipython3",
   "version": "3.12.2"
  }
 },
 "nbformat": 4,
 "nbformat_minor": 5
}

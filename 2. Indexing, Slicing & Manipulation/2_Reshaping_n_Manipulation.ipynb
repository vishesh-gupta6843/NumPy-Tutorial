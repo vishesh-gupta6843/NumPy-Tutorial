{
 "cells": [
  {
   "cell_type": "code",
   "execution_count": 21,
   "id": "c88068ac",
   "metadata": {},
   "outputs": [],
   "source": [
    "import numpy as np"
   ]
  },
  {
   "cell_type": "markdown",
   "id": "905fcdd2",
   "metadata": {},
   "source": [
    "# RESHAPING AND MANIPULATION OF ARRAYS\n",
    " \n",
    "There are 3 major operations in this section :- `np.reshape()` , `np.ravel()` , `np.flatten()`"
   ]
  },
  {
   "cell_type": "markdown",
   "id": "b181842c",
   "metadata": {},
   "source": [
    "---\n",
    "## `.reshape()`\n",
    "It is used to transform the array into a new array with same values arranged differently across dimensions of new shape.\n",
    "\n",
    "**Syntax :** `array_name.reshape(new_shape)`\n",
    "\n",
    "⚠️ **Caution**: The size of array should be equal to the product of all the dimensions of the new shape.(eg shown below)\n",
    "\n",
    "📝 **Note**: It does not change or modify the actual/source array, it only creates a reshaped copy"
   ]
  },
  {
   "cell_type": "code",
   "execution_count": 22,
   "id": "bd856bbd",
   "metadata": {},
   "outputs": [
    {
     "name": "stdout",
     "output_type": "stream",
     "text": [
      "[[1 2 3]\n",
      " [4 5 6]]\n",
      "\n",
      "Following exception thrown upon running:\n",
      "\tarr = np.array([1, 2, 3, 4, 5, 6]) \n",
      "\treshaped = arr.reshape((2, 3))\n",
      "\treshaped = arr.reshape((2, 3))\n",
      "\n",
      "Exception: cannot reshape array of size 7 into shape (2,3)\n",
      "\n",
      " [[1 2]\n",
      " [3 4]\n",
      " [5 6]]\n"
     ]
    }
   ],
   "source": [
    "\n",
    "\n",
    "arr1 = np.array([1, 2, 3, 4, 5, 6])\n",
    "reshaped = arr1.reshape((2, 3))  # 2 rows, 3 columns\n",
    "print(reshaped,end=\"\\n\\n\")\n",
    "try:\n",
    "    arr = np.array([1, 2, 3, 4, 5, 6, 7])\n",
    "    reshaped = arr.reshape((2, 3))  # 2 rows, 3 columns\n",
    "    print(reshaped)\n",
    "except Exception as e:\n",
    "    print(f\"Following exception thrown upon running:\\n\\tarr = np.array([1, 2, 3, 4, 5, 6]) \\n\\treshaped = arr.reshape((2, 3))\\n\\treshaped = arr.reshape((2, 3))\\n\\nException: {e}\")\n",
    "\n",
    "\n",
    "# Automatically deciding dimension size\n",
    "reshaped=arr1.reshape((-1,2)) # Numpy will automatically decide the number of rows\n",
    "print(\"\\n\",reshaped)\n",
    "\n",
    "\n",
    "\n",
    "#Output :\n",
    "# [[1 2 3]\n",
    "#  [4 5 6]]\n"
   ]
  },
  {
   "cell_type": "markdown",
   "id": "af0733ad",
   "metadata": {},
   "source": [
    "---\n",
    "## `.ravel()`\n",
    "\n",
    "Returns a flattened view of the original array if possible.\n",
    "\n",
    "**Syntax :** `array_name.ravel()`\n",
    "\n",
    "📝 **Note :** No data is copied (i.e., it's a shallow copy), so changes in the raveled array may affect the original.\n",
    "\n",
    "Faster and more memory-efficient."
   ]
  },
  {
   "cell_type": "code",
   "execution_count": 23,
   "id": "f5745902",
   "metadata": {},
   "outputs": [
    {
     "name": "stdout",
     "output_type": "stream",
     "text": [
      "[99  2  3  4]\n",
      "[[99  2]\n",
      " [ 3  4]]\n"
     ]
    }
   ],
   "source": [
    "\n",
    "##eg.\n",
    "\n",
    "a=np.array([[1,2],[3,4]])\n",
    "\n",
    "r=a.ravel() # Creates a shallow copy\n",
    "\n",
    "r[0]=99\n",
    "\n",
    "print(r)\n",
    "print(a) # Changes are also reflected in a\n",
    "\n"
   ]
  },
  {
   "cell_type": "markdown",
   "id": "cc4adcee",
   "metadata": {},
   "source": [
    "---\n",
    "## `.flatten()` \n",
    "\n",
    "Always returns a copy of the array (i.e., a deep copy).\n",
    "\n",
    "**Syntax :** `array_name.flatten()`\n",
    "\n",
    "📝 **Note**: Changes to the flattened array do not affect the original.\n",
    "\n",
    "Slightly slower and uses more memory"
   ]
  },
  {
   "cell_type": "code",
   "execution_count": 24,
   "id": "64f161e3",
   "metadata": {},
   "outputs": [
    {
     "name": "stdout",
     "output_type": "stream",
     "text": [
      "[99  2  3  4]\n",
      "[[1 2]\n",
      " [3 4]]\n"
     ]
    }
   ],
   "source": [
    "a=np.array([[1,2],[3,4]])\n",
    "\n",
    "r=a.flatten() # Creates a true copy\n",
    "\n",
    "r[0]=99\n",
    "\n",
    "print(r)\n",
    "print(a) # Changes are not reflected in a"
   ]
  },
  {
   "cell_type": "markdown",
   "id": "b3e7beb5",
   "metadata": {},
   "source": [
    "###  DIFFERENCE B/W `.ravel` AND `.flatten`"
   ]
  }
 ],
 "metadata": {
  "kernelspec": {
   "display_name": ".venv",
   "language": "python",
   "name": "python3"
  },
  "language_info": {
   "codemirror_mode": {
    "name": "ipython",
    "version": 3
   },
   "file_extension": ".py",
   "mimetype": "text/x-python",
   "name": "python",
   "nbconvert_exporter": "python",
   "pygments_lexer": "ipython3",
   "version": "3.12.2"
  }
 },
 "nbformat": 4,
 "nbformat_minor": 5
}

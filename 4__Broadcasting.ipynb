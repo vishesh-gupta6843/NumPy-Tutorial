{
 "cells": [
  {
   "cell_type": "code",
   "execution_count": 2,
   "id": "1d38a7f1",
   "metadata": {},
   "outputs": [],
   "source": [
    "import numpy as np"
   ]
  },
  {
   "cell_type": "markdown",
   "id": "01b9ca84",
   "metadata": {},
   "source": [
    "#                                           BROADCASTING "
   ]
  },
  {
   "cell_type": "markdown",
   "id": "d1dbc119",
   "metadata": {},
   "source": [
    "## CASES WHEN SHAPE OF THE OPERANDS IS NOT SAME :-\n",
    "\n",
    "### CASE 1 :- BROADCASTING Works (Compatible Shapes)\n",
    "\n",
    "Broadcasting is used when two arrays with unequal but compatible shapes are operated, as the name suggests we broadcast dimensions to equate the shape of two arrays.\n",
    "\n",
    "Shapes that can be broadcasted into one another are called compatible shapes.\n",
    "\n",
    "Rules for Broadcasting :-\n",
    "\n",
    "Step 1 :- Write the shapes of both arrays together, check if the number of dimensions are equal or not, if not, broadcast ones to the left end of the shape with smaller dimension until equal. \n",
    "eg. (2,3) and (3,)    --->  (2,3) (1,3)\n",
    "\n",
    "Step 2:- Start from right-most end of both shapes and compare the dimensions, corresponding dimensions are compatible only if both are equal or either one of them is one.\n",
    "\n",
    "Step 3:- If all the corresponding dimensions are compatible then the shapes are compatible, you can fill values into broadcasted dimensions by analytical method."
   ]
  },
  {
   "cell_type": "code",
   "execution_count": null,
   "id": "ce93ab92",
   "metadata": {},
   "outputs": [
    {
     "name": "stdout",
     "output_type": "stream",
     "text": [
      "[[11 22 33]\n",
      " [14 25 36]]\n",
      "[[1]\n",
      " [2]\n",
      " [3]]\n",
      "[[10 20 30 40]]\n",
      "[[11 21 31 41]\n",
      " [12 22 32 42]\n",
      " [13 23 33 43]]\n"
     ]
    }
   ],
   "source": [
    "A = np.array([[1, 2, 3], [4, 5, 6]])   # shape: (2, 3)\n",
    "B = np.array([10, 20, 30])            # shape: (3,)\n",
    "\n",
    "C = A + B\n",
    "print(C)\n",
    "# Output:\n",
    "# [[11 22 33]\n",
    "#  [14 25 36]]\n",
    "\n",
    "a = np.array([[1], [2], [3]])  # shape: (3, 1)\n",
    "b = np.array([[10, 20, 30, 40]])  # shape: (1, 4)\n",
    "print(a)\n",
    "print(b)\n",
    "\n",
    "print(a + b)\n"
   ]
  },
  {
   "cell_type": "markdown",
   "id": "12d02de4",
   "metadata": {},
   "source": [
    "NOTE :- SCALARS ALWAYS BROADCAST \n"
   ]
  },
  {
   "cell_type": "code",
   "execution_count": null,
   "id": "6e6cd254",
   "metadata": {},
   "outputs": [
    {
     "name": "stdout",
     "output_type": "stream",
     "text": [
      "[[6 7]\n",
      " [8 9]]\n"
     ]
    }
   ],
   "source": [
    "A = np.array([[1, 2], [3, 4]])\n",
    "B = 5\n",
    "\n",
    "print(A + B)\n",
    "# [[6 7]\n",
    "#  [8 9]]\n"
   ]
  },
  {
   "cell_type": "markdown",
   "id": "7804737b",
   "metadata": {},
   "source": [
    "## newaxis() method in NumPy"
   ]
  },
  {
   "cell_type": "code",
   "execution_count": null,
   "id": "04f7a887",
   "metadata": {},
   "outputs": [],
   "source": [
    "A=np.array([1,2,3])\n",
    "B=np.array([4,5,6,7])\n",
    "try:\n",
    "    print(A-B)\n",
    "except Exception as e:\n",
    "    print(f\"{A} - {B} \\nthrows:\")\n",
    "    print(e)\n",
    "\n",
    "print(\"\\nWe expect the dimesions to broadcast automatically \")\n",
    "print(f\"The shape of A is {A.shape}\")\n",
    "print(f\"The shape of B is {B.shape}\")\n",
    "print(\"The dimensions are incompatible, therefore we need to introduce another dimension manually\")\n",
    "\n",
    "print(f\"Using the new axis function on A :\\n {A[:,np.newaxis]} \\n Shape of A :{A[:,np.newaxis].shape}\")\n",
    "print()\n",
    "print(f\"Using the new axis function on B : {B[np.newaxis,:]} \\n Shape of B :{B[np.newaxis,:].shape}\")\n",
    "A=A[:,np.newaxis]\n",
    "B=B[np.newaxis,:]\n",
    "print(f\"A-B :\\n {A-B}\")\n",
    "\n",
    "'''\n",
    "[1 2 3] - [4 5 6 7] \n",
    "throws:\n",
    "operands could not be broadcast together with shapes (3,) (4,) \n",
    "\n",
    "We expect the dimesions to broadcast automatically \n",
    "The shape of A is (3,)\n",
    "The shape of B is (4,)\n",
    "The dimensions are incompatible, therefore we need to introduce another dimension manually\n",
    "Using the new axis function on A :\n",
    " [[1]\n",
    " [2]\n",
    " [3]] \n",
    " Shape of A :(3, 1)\n",
    "\n",
    "Using the new axis function on B : [[4 5 6 7]] \n",
    " Shape of B :(1, 4)\n",
    "A-B :\n",
    " [[-3 -4 -5 -6]\n",
    " [-2 -3 -4 -5]\n",
    " [-1 -2 -3 -4]] \n",
    "'''\n"
   ]
  },
  {
   "cell_type": "code",
   "execution_count": null,
   "id": "922e54d4",
   "metadata": {},
   "outputs": [],
   "source": []
  }
 ],
 "metadata": {
  "kernelspec": {
   "display_name": "Python 3",
   "language": "python",
   "name": "python3"
  },
  "language_info": {
   "codemirror_mode": {
    "name": "ipython",
    "version": 3
   },
   "file_extension": ".py",
   "mimetype": "text/x-python",
   "name": "python",
   "nbconvert_exporter": "python",
   "pygments_lexer": "ipython3",
   "version": "3.10.11"
  }
 },
 "nbformat": 4,
 "nbformat_minor": 5
}

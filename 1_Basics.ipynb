{
 "cells": [
  {
   "cell_type": "code",
   "execution_count": 2,
   "id": "0da5f6e5",
   "metadata": {},
   "outputs": [],
   "source": [
    "import numpy as np"
   ]
  },
  {
   "cell_type": "markdown",
   "id": "347f157a-127e-44ef-9648-2dcbdb8436a6",
   "metadata": {},
   "source": [
    "# NUMPY BASICS\n",
    "\n",
    "\n",
    "The Numpy Library in python is used to avoid the continuous and unoptimized(slow) use of python default datatypes(list, tuples etc) for larger data sets and perform quick operations without having the need to apply loops or traversals \n"
   ]
  },
  {
   "cell_type": "markdown",
   "id": "573db129",
   "metadata": {},
   "source": [
    "###     NumPy array as an object\n",
    "\n",
    "A numpy array is an object that has the following main attributes :-\n"
   ]
  },
  {
   "cell_type": "markdown",
   "id": "afcc7c92",
   "metadata": {},
   "source": [
    "\n",
    "\n",
    "1. shape :- refers to the size of each dimension represented in tuple form\n"
   ]
  },
  {
   "cell_type": "code",
   "execution_count": null,
   "id": "73a90dec",
   "metadata": {},
   "outputs": [],
   "source": [
    "#1 \n",
    "\n",
    "arr2D = np.array([[1, 2, 3], [4, 5, 6]])\n",
    "print(arr2D.shape)   # (2, 3)\n"
   ]
  },
  {
   "cell_type": "markdown",
   "id": "d036faf3",
   "metadata": {},
   "source": [
    "\n",
    "2. dtype :- refers to data type stored in the homogenous array\n"
   ]
  },
  {
   "cell_type": "code",
   "execution_count": null,
   "id": "a359548c",
   "metadata": {},
   "outputs": [],
   "source": [
    "\n",
    "\n",
    "#2\n",
    "arr = np.array([1, 2, 3])\n",
    "print(arr.dtype)  # int64\n",
    "\n",
    "arr_mixed = np.array([1, 2.5, 3])\n",
    "print(arr_mixed)  # [1.  2.5 3. ]\n",
    "print(arr_mixed.dtype)  # float64 (all converted to float) each one is converted to higher data type\n"
   ]
  },
  {
   "cell_type": "markdown",
   "id": "d0727ac8",
   "metadata": {},
   "source": [
    "\n",
    "3. ndim  :- refers to the number of dimensions of the array\n"
   ]
  },
  {
   "cell_type": "code",
   "execution_count": null,
   "id": "a2011285",
   "metadata": {},
   "outputs": [],
   "source": [
    "\n",
    "#3\n",
    "print(arr2D.ndim)    # 2\n"
   ]
  },
  {
   "cell_type": "markdown",
   "id": "9caae800",
   "metadata": {},
   "source": [
    "\n",
    "4. \n",
    "    1. size  :- \n",
    "\n",
    "        Returns the total number of elements in the entire NumPy array.\n",
    "\n",
    "        Works for arrays of any shape or dimension.\n",
    " \n",
    "    2. len(arr) :-\n",
    "        \n",
    "        Returns the length of the first dimension (i.e., number of rows in a 2D array).\n",
    "\n",
    "        Equivalent to arr.shape[0].\n"
   ]
  },
  {
   "cell_type": "code",
   "execution_count": 31,
   "id": "06c9617e",
   "metadata": {},
   "outputs": [
    {
     "name": "stdout",
     "output_type": "stream",
     "text": [
      "6\n",
      "2\n"
     ]
    }
   ],
   "source": [
    "\n",
    "arr = np.array([[1, 2, 3], [4, 5, 6]])\n",
    "print(arr.size)   # Output: 6 (2 rows × 3 columns)\n",
    "\n",
    "print(len(arr))   # Output: 2 (number of rows)"
   ]
  },
  {
   "cell_type": "markdown",
   "id": "4aead5ca",
   "metadata": {},
   "source": [
    "### OPERATOR OVERLOADING FOR NUMPY ARRAYS\n",
    "Note: Operators are generally applied in the case when shape of two operand arrays is same, in other cases concepts of broadcasting are applied but they may fail\n"
   ]
  },
  {
   "cell_type": "markdown",
   "id": "fca7a389",
   "metadata": {},
   "source": [
    "## 5. UNARY OPERATOR"
   ]
  },
  {
   "cell_type": "code",
   "execution_count": 8,
   "id": "eb4d2663",
   "metadata": {},
   "outputs": [
    {
     "name": "stdout",
     "output_type": "stream",
     "text": [
      "Negation: [ 1  0 -1]\n"
     ]
    }
   ],
   "source": [
    "a = np.array([-1, 0, 1])\n",
    "print(\"Negation:\", -a)           # [1 0 -1]\n"
   ]
  },
  {
   "cell_type": "markdown",
   "id": "a72214b0",
   "metadata": {},
   "source": [
    "## Methods of Initialization\n"
   ]
  },
  {
   "cell_type": "code",
   "execution_count": 11,
   "id": "3454f422-4687-4484-9fb5-7f6d64ef3e11",
   "metadata": {},
   "outputs": [
    {
     "name": "stdout",
     "output_type": "stream",
     "text": [
      "array:\n",
      " [[1 2]\n",
      " [3 4]]\n",
      "True\n",
      "False\n",
      "\n",
      "asarray:\n",
      " [[5 6]\n",
      " [7 8]]\n"
     ]
    }
   ],
   "source": [
    "import numpy as np\n",
    "\n",
    "# 1. array :   Converts any sequential data type into nd array\n",
    "arr1 = np.array([[1, 2], [3, 4]])\n",
    "print(\"array:\\n\", arr1)\n",
    "\n",
    "# 2. asarray : Does not convert if already an nd array\n",
    "# The below is used  to demonstrate that asarray() works better if no conversion is needed\n",
    "a = np.array([1, 2, 3])\n",
    "b = np.asarray(a)\n",
    "print(a is b)  # True — same object (no copy made)\n",
    "\n",
    "a = np.array([1, 2, 3])\n",
    "b = np.array(a)\n",
    "print(a is b)  # False — different object (copy made)\n",
    "\n",
    "\n",
    "arr2 = np.asarray([[5, 6], [7, 8]])\n",
    "print(\"\\nasarray:\\n\", arr2)\n",
    "\n",
    "\n"
   ]
  },
  {
   "cell_type": "markdown",
   "id": "0fd7a18b",
   "metadata": {},
   "source": [
    "##### Use array() function when you need a guaranteed copy of the array\n",
    "##### Use asarray() function when you don't need copy if the input is already an array"
   ]
  },
  {
   "cell_type": "code",
   "execution_count": null,
   "id": "165ffd30",
   "metadata": {},
   "outputs": [
    {
     "name": "stdout",
     "output_type": "stream",
     "text": [
      "\n",
      "arange:\n",
      " [0 2 4 6 8]\n"
     ]
    }
   ],
   "source": [
    "\n",
    "# 3. arange()\n",
    "arr3 = np.arange(0, 10, 2)\n",
    "print(\"\\narange:\\n\", arr3)\n",
    "\n",
    "## USED FOR INITIALIZING AN ARRAY OVER A RANGE like range() function"
   ]
  },
  {
   "cell_type": "markdown",
   "id": "1fdb914c",
   "metadata": {},
   "source": [
    "\n",
    "3.b linspace() : Unlike arange() it divides the array into n points(as passed) and we don't need to specify the step,\n",
    "                 this is generally used to generate a series of points for plotting of smooth curves.(PSLP)\n",
    "\n",
    "np.linspace(start, stop, num=50, endpoint=True)\n",
    "num  : the number of divisions in the range [start,stop]\n",
    "endpoint : this argument if true(default) ensures that stop is  included in the resultant array\n"
   ]
  },
  {
   "cell_type": "code",
   "execution_count": null,
   "id": "cfdea339",
   "metadata": {},
   "outputs": [],
   "source": [
    "\n",
    "arr=np.linspace(0,10,100,endpoint=True) #including the end point\n",
    "print(arr)\n",
    "arr=np.linspace(0,10,1000,endpoint=False) #including the end point\n",
    "print(arr)\n"
   ]
  },
  {
   "cell_type": "code",
   "execution_count": null,
   "id": "3c831d2f",
   "metadata": {},
   "outputs": [],
   "source": [
    "\n",
    "# 4. ones, ones_like\n",
    "arr4 = np.ones((2, 3))# Used to initialize an array with all elements as ones for given shape\n",
    "print(\"\\nones:\\n\", arr4) \n",
    "\n",
    "arr5 = np.ones_like(arr1) # Used to generate an array with all values as ones with same shape as input array\n",
    "print(\"\\nones_like:\\n\", arr5)\n"
   ]
  },
  {
   "cell_type": "code",
   "execution_count": null,
   "id": "631f395c",
   "metadata": {},
   "outputs": [],
   "source": [
    "\n",
    "# 5. zeros, zeros_like\n",
    "arr6 = np.zeros((2, 3))# Used to initialize an array with all elements as zeroes for given shape\n",
    "print(\"\\nzeros:\\n\", arr6)\n",
    "\n",
    "arr7 = np.zeros_like(arr2)# Used to generate an array with all values as ones with same shape as input array\n",
    "print(\"\\nzeros_like:\\n\", arr7)\n"
   ]
  },
  {
   "cell_type": "code",
   "execution_count": null,
   "id": "03ed4a04",
   "metadata": {},
   "outputs": [],
   "source": [
    "\n",
    "# 6. empty, empty_like\n",
    "arr8 = np.empty((2, 3)) # Initializes an array with garbage values for given shape\n",
    "print(\"\\nempty (uninitialized values):\\n\", arr8)\n",
    "\n",
    "arr9 = np.empty_like(arr1)# Used to generate an array with all values as garbage with same shape as input array\n",
    "print(\"\\nempty_like (uninitialized values):\\n\", arr9)\n"
   ]
  },
  {
   "cell_type": "code",
   "execution_count": null,
   "id": "bb1ae688",
   "metadata": {},
   "outputs": [],
   "source": [
    "\n",
    "# 7. full, full_like\n",
    "arr10 = np.full((2, 2), 9)# Initializes an array with input values for given shape\n",
    "print(\"\\nfull:\\n\", arr10)\n",
    "\n",
    "arr11 = np.full_like(arr1, 7)# Used to generate an array with all values as input with same shape as input array\n",
    "print(\"\\nfull_like:\\n\", arr11)\n"
   ]
  },
  {
   "cell_type": "code",
   "execution_count": null,
   "id": "e3efdf18",
   "metadata": {},
   "outputs": [],
   "source": [
    "\n",
    "# 8. eye, identity\n",
    "arr12 = np.eye(3)#Used to generate an identity matrix (n,n) shaped array for given n, where all arr[i][i]==1 for i in (0,n)  \n",
    "print(\"\\neye (identity matrix):\\n\", arr12)\n",
    "\n",
    "arr13 = np.identity(3) # same as above\n",
    "print(\"\\nidentity:\\n\", arr13)\n"
   ]
  },
  {
   "cell_type": "markdown",
   "id": "b6f31acb",
   "metadata": {},
   "source": [
    "## numpy.random package "
   ]
  },
  {
   "cell_type": "code",
   "execution_count": null,
   "id": "dfb6ac7b",
   "metadata": {},
   "outputs": [],
   "source": []
  },
  {
   "cell_type": "markdown",
   "id": "c2ff7abd",
   "metadata": {},
   "source": []
  }
 ],
 "metadata": {
  "kernelspec": {
   "display_name": "Python 3",
   "language": "python",
   "name": "python3"
  },
  "language_info": {
   "codemirror_mode": {
    "name": "ipython",
    "version": 3
   },
   "file_extension": ".py",
   "mimetype": "text/x-python",
   "name": "python",
   "nbconvert_exporter": "python",
   "pygments_lexer": "ipython3",
   "version": "3.10.11"
  }
 },
 "nbformat": 4,
 "nbformat_minor": 5
}
